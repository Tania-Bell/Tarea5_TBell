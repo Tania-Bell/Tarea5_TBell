{
 "cells": [
  {
   "cell_type": "markdown",
   "metadata": {},
   "source": [
    "<img style=\"float: left; margin: 30px 15px 15px 15px;\" src=\"https://pngimage.net/wp-content/uploads/2018/06/logo-iteso-png-5.png\" width=\"300\" height=\"500\" /> \n",
    "    \n",
    "    \n",
    "### <font color='navy'> Simulación de procesos financieros. \n",
    "\n",
    "**Nombres:** Tania Bell Nicholls.\n",
    "\n",
    "**Fecha:** 08 de octubre del 2021.\n",
    "\n",
    "**Expediente** : if726767.\n",
    "**Profesor:** Oscar David Jaramillo Zuluaga.\n",
    "    \n",
    "**Link Github**: https://github.com/Tania-Bell/Tarea5_TBell.git\n",
    "\n",
    "# Tarea 5: Clase 9"
   ]
  },
  {
   "cell_type": "markdown",
   "metadata": {},
   "source": [
    "## Enunciado de tarea \n",
    "    \n",
    "> Para las siguiente dos funciones, genere muestres aleatorias que distribuyan según la función dada usando el método de la transformada inversa y grafique el histograma de 1000 muestras generadas con el método de la transformada inversa y compárela con el función $f(x)$ **(recuerde que $f(x)$ es la distribución de probabilidad y $F(x)$ es la distribución de probabilidad acumulada)** [ver este enlace para más información](https://es.wikipedia.org/wiki/Funci%C3%B3n_de_distribuci%C3%B3n). Este procedimiento se realiza con el fín de validar que el procedimiento y los resultados son correctos.\n",
    "\n",
    "\n",
    "> **Nota:** Por notación recuerde que para el caso continuo $f(x)$ es la distribución de probabilidad (PDF), mientras $F(x)$ corresponde a la distribución de probabilidad acumulada (CDF). Para el caso discreto, $P(X=i)$ corresponde a su distribución de probabilidad (PMF) y $ F_{X}(x)=\\operatorname {P} (X\\leq x)=\\sum _{x_{i}\\leq x}\\operatorname {P} (X=x_{i})=\\sum _{x_{i}\\leq x}p(x_{i})$, corresponde a su distribución de probabilidad acumulada (CDF).\n"
   ]
  },
  {
   "cell_type": "markdown",
   "metadata": {},
   "source": [
    "### Ejercicio 1: \n",
    "\n",
    "> 1. Generación variable aleatoria continua\n",
    ">El tiempo en el cual un movimiento browniano se mantiene sobre su punto máximo en el intervalo [0,1] tiene una distribución\n",
    ">$$F(x)=\\frac{2}{\\pi}\\sin^{-1}(\\sqrt x),\\quad 0\\leq x\\leq 1$$ </font>"
   ]
  },
  {
   "cell_type": "markdown",
   "metadata": {},
   "source": [
    "Código de solución estudiante 1"
   ]
  },
  {
   "cell_type": "markdown",
   "metadata": {},
   "source": [
    "El método de la transformada inversa establece\n",
    "$$X = F^{-1}(U),\\quad U \\sim \\text{Uniforme[0,1]}$$\n",
    "donde $F^{-1}$ es la transformada inversa de $F$.\n",
    "\n",
    "$$U = \\frac{2}{\\pi}\\sin^{-1}(\\sqrt x),\\quad 0\\leq x\\leq 1$$\n",
    "\n",
    "$$(\\sin^{-1}\\sqrt x) = \\frac{U}{\\frac{2}{\\pi}}$$\n",
    "\n",
    "$$\\sqrt x = \\sin(\\frac{U\\pi}{2})$$\n",
    "\n",
    "$$x = \\sin^{2}(\\frac{U\\pi}{2})$$\n",
    "\n",
    "Derivada de $$F(x)$$:\n",
    "\n",
    "$$\\frac{dF(x)}{dx} = \\frac{d}{dx}\\frac{2}{\\pi}\\sin^{-1}(\\sqrt{x})$$\n",
    "\n",
    "$$\\frac{2}{\\pi}\\frac{1}{\\sqrt{1-\\sqrt{x}^{2}}}\\frac{d}{dx}\\sqrt{x}$$\n",
    "\n",
    "$$\\frac{2}{\\pi}\\frac{1}{\\sqrt{1-\\sqrt{x}^{2}}}\\frac{1}{2}x^{\\frac{1}{2}-1}$$\n",
    "\n",
    "$$\\frac{dF(x)}{dx} = \\frac{1}{\\pi\\sqrt{1-x}\\sqrt{x}}$$"
   ]
  },
  {
   "cell_type": "code",
   "execution_count": 1,
   "metadata": {},
   "outputs": [],
   "source": [
    "import numpy as np\n",
    "import matplotlib.pyplot as plt\n",
    "import pandas as pd"
   ]
  },
  {
   "cell_type": "code",
   "execution_count": 2,
   "metadata": {},
   "outputs": [
    {
     "name": "stderr",
     "output_type": "stream",
     "text": [
      "<ipython-input-2-13f1df233920>:7: RuntimeWarning: divide by zero encountered in true_divide\n",
      "  funcion = 1/(np.pi*np.sqrt(1-x)*np.sqrt(x))\n"
     ]
    },
    {
     "data": {
      "image/png": "[encoded data removed]",
      "text/plain": [
       "<Figure size 432x288 with 1 Axes>"
      ]
     },
     "metadata": {
      "needs_background": "light"
     },
     "output_type": "display_data"
    }
   ],
   "source": [
    "def distribucion():\n",
    "    x = np.sin((np.random.random()*np.pi)/2)**2\n",
    "    return x\n",
    "\n",
    "N = 1000\n",
    "x = np.arange(0,1,0.001)\n",
    "funcion = 1/(np.pi*np.sqrt(1-x)*np.sqrt(x))\n",
    "m = [distribucion() for i in range(N)]\n",
    "plt.hist(m, bins=100, density = True);\n",
    "plt.plot(x,funcion);"
   ]
  },
  {
   "cell_type": "markdown",
   "metadata": {},
   "source": [
    "### Ejercicio 2: \n",
    "\n",
    "> 2. Generación variable aleatoria Discreta\n",
    "> La distribución binomial modela el número de éxitos de n ensayos independientes donde hay una probabilidad p de éxito en cada ensayo.\n",
    "> Generar una variable aletoria binomial con parámetros $n=10$ y $p=0.7$. Recordar que $$X\\sim binomial(n,p) \\longrightarrow p_i=P(X=i)=\\frac{n!}{i!(n-i)!}p^i(1-p)^{n-i},\\quad i=0,1,\\cdots,n$$\n",
    "> Por propiedades de la operación factorial la anterior $p_i$ se puede escribir como:\n",
    "> $$p_{i+1}=\\frac{n-i}{i+1}\\frac{p}{1-p} p_i $$\n"
   ]
  },
  {
   "cell_type": "code",
   "execution_count": 3,
   "metadata": {},
   "outputs": [
    {
     "data": {
      "image/png": "[encoded data removed]",
      "text/plain": [
       "<Figure size 576x288 with 1 Axes>"
      ]
     },
     "metadata": {
      "needs_background": "light"
     },
     "output_type": "display_data"
    }
   ],
   "source": [
    "def Gen_distr_discreta(p_acum: 'P.Acumulada de la distribución a generar',\n",
    "                       indices: 'valores reales a generar aleatoriamente',\n",
    "                       N: 'cantidad de números aleatorios a generar'):\n",
    "    \n",
    "    U =np.random.rand(N)\n",
    "    # Diccionario de valores aleatorios\n",
    "    val2id = {i:val_i for i, val_i in enumerate(indices)}\n",
    "\n",
    "    # Series de los valores aletorios generados\n",
    "    v = pd.Series([sum([1 for i in p_acum if i<ui]) for ui in U]).map(val2id)\n",
    "\n",
    "    return v\n",
    "\n",
    "def plot_histogram_discrete(distribucion:'distribución a graficar histograma',\n",
    "                            label:'label del legend'):\n",
    "    # len(set(distribucion)) cuenta la cantidad de elementos distintos de la variable 'distribucion'\n",
    "    plt.figure(figsize=[8,4])\n",
    "    y,x = np.histogram(distribucion,bins = len(set(distribucion))) \n",
    "    plt.bar(list(set(distribucion)),y,label=label)\n",
    "    plt.legend()\n",
    "    plt.show()\n",
    "    \n",
    "def P_acum_Binomial_o(n,p):\n",
    "    Pr = np.zeros(n)\n",
    "    Pr[0] = (1-p)**n\n",
    "    def pr(i):\n",
    "        nonlocal Pr\n",
    "        c  = p/(1-p)\n",
    "        Pr[i+1]=(c*(n-i)/(i+1))*Pr[i]\n",
    "        \n",
    "    # Lleno el vector Pr usando compresión de listas\n",
    "    [pr(i) for i in range(n-1)]\n",
    "    return np.cumsum(Pr)\n",
    "n = 10\n",
    "p = 0.7\n",
    "N = 1000\n",
    "p_acum = P_acum_Binomial_o(n,p)\n",
    "\n",
    "\n",
    "plot_histogram_discrete(Gen_distr_discreta(p_acum, np.arange(0, n + 1), N), 'Distribución discreta binomial')"
   ]
  }
 ],
 "metadata": {
  "kernelspec": {
   "display_name": "Python 3",
   "language": "python",
   "name": "python3"
  },
  "language_info": {
   "codemirror_mode": {
    "name": "ipython",
    "version": 3
   },
   "file_extension": ".py",
   "mimetype": "text/x-python",
   "name": "python",
   "nbconvert_exporter": "python",
   "pygments_lexer": "ipython3",
   "version": "3.8.5"
  }
 },
 "nbformat": 4,
 "nbformat_minor": 2
}
